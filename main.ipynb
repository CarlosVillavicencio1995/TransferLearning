{
 "cells": [
  {
   "cell_type": "code",
   "execution_count": null,
   "metadata": {},
   "outputs": [],
   "source": [
    "from keras.models import Sequential, Model\n",
    "from keras.layers import Conv2D, MaxPool2D, Dense, Flatten, Dropout, BatchNormalization, Input\n",
    "from keras.applications.imagenet_utils import preprocess_input, decode_predictions\n",
    "from keras.applications.vgg16 import VGG16\n",
    "from keras.preprocessing.image import ImageDataGenerator\n",
    "import matplotlib.pyplot as plt\n",
    "from tensorflow.python.keras import backend as K"
   ]
  },
  {
   "cell_type": "code",
   "execution_count": null,
   "metadata": {},
   "outputs": [],
   "source": [
    "import tensorflow as tf\n",
    "tf.__version__\n",
    "tf.test.gpu_device_name()"
   ]
  },
  {
   "cell_type": "code",
   "execution_count": null,
   "metadata": {},
   "outputs": [],
   "source": [
    "K.clear_session()\n",
    "\n",
    "data_entrenamiento = './data/train'\n",
    "data_validacion = './data/validation'"
   ]
  },
  {
   "cell_type": "code",
   "execution_count": null,
   "metadata": {},
   "outputs": [],
   "source": [
    "epocas = 20 #numero de veces q se va a iterar sobre el set de datos.\n",
    "width_shape = 224\n",
    "height_shape = 224 # tamano al cual vamos a procesar las imagenes\n",
    "batch_size = 32 #cantidad de imagenes que enviamos a procesar en cada uno de los pasos\n",
    "clases=2 #tipo de imagenes q vamos a enviar\n",
    "lr=0.0005 #determina el tamano de los ajustes que ara nuestra red neuronal"
   ]
  },
  {
   "cell_type": "markdown",
   "metadata": {},
   "source": [
    "PRE PROCESAMIENTO DE IMAGENES"
   ]
  },
  {
   "cell_type": "code",
   "execution_count": null,
   "metadata": {},
   "outputs": [],
   "source": [
    "train_datagen = ImageDataGenerator()\n",
    "\n",
    "valid_datagen = ImageDataGenerator()\n",
    "train_generator = train_datagen.flow_from_directory(\n",
    "    data_entrenamiento,\n",
    "    target_size=(width_shape, height_shape),\n",
    "    batch_size=batch_size,\n",
    "    class_mode='categorical')\n",
    "validation_generator = valid_datagen.flow_from_directory(\n",
    "    data_validacion,\n",
    "    target_size=(width_shape, height_shape),\n",
    "    batch_size=batch_size,\n",
    "    class_mode='categorical')"
   ]
  },
  {
   "cell_type": "code",
   "execution_count": null,
   "metadata": {},
   "outputs": [],
   "source": [
    "nb_train_samples = 10682\n",
    "nb_validation_samples = 3562"
   ]
  },
  {
   "cell_type": "markdown",
   "metadata": {},
   "source": [
    "MODELO VGG16"
   ]
  },
  {
   "cell_type": "code",
   "execution_count": null,
   "metadata": {},
   "outputs": [],
   "source": [
    "image_input = Input(shape=(width_shape, height_shape, 3))\n",
    "model = VGG16(input_tensor=image_input, include_top=True, weights='imagenet')\n",
    "last_layer = model.layers[-1].output\n",
    "out = Dense(clases, activation='softmax', name='output')(last_layer)\n",
    "custom_vgg_model = Model(image_input, out)\n",
    "custom_vgg_model.compile(loss='categorical_crossentropy', optimizer='adadelta', metrics=['accuracy'])\n",
    "custom_vgg_model.summary()"
   ]
  },
  {
   "cell_type": "markdown",
   "metadata": {},
   "source": [
    "ENTRENAMIENTO MODELO VGG16"
   ]
  },
  {
   "cell_type": "code",
   "execution_count": null,
   "metadata": {},
   "outputs": [],
   "source": [
    "model_history = custom_vgg_model.fit_generator(\n",
    "    train_generator,\n",
    "    epochs=epocas,\n",
    "    validation_data=validation_generator,\n",
    "    steps_per_epoch=nb_train_samples//batch_size,\n",
    "    validation_steps=nb_validation_samples//batch_size)"
   ]
  },
  {
   "cell_type": "code",
   "execution_count": null,
   "metadata": {},
   "outputs": [],
   "source": [
    "custom_vgg_model.save(\"./model/model_VGG16-20.h5\")"
   ]
  },
  {
   "cell_type": "markdown",
   "metadata": {},
   "source": [
    "Modelo Resnet50"
   ]
  },
  {
   "cell_type": "code",
   "execution_count": null,
   "metadata": {},
   "outputs": [],
   "source": [
    "from keras.applications.resnet import ResNet50\n",
    "image_input = Input(shape=(width_shape, height_shape, 3))\n",
    "m_Resnet50 = ResNet50(input_tensor=image_input, include_top=False, weights='imagenet')\n",
    "\n",
    "last_layer = m_Resnet50.layers[-1].output\n",
    "x = Flatten(name='flatten')(last_layer)\n",
    "out = Dense(clases, activation='softmax', name='output')(x)\n",
    "custom_model = Model(image_input, out)\n",
    "custom_model.summary()\n",
    "\n",
    "custom_model.compile(loss='categorical_crossentropy', optimizer='adadelta', metrics=['accuracy'])"
   ]
  },
  {
   "cell_type": "code",
   "execution_count": null,
   "metadata": {},
   "outputs": [],
   "source": [
    "model_history = custom_model.fit_generator(\n",
    "    train_generator,\n",
    "    epochs=epocas,\n",
    "    validation_data=validation_generator,\n",
    "    steps_per_epoch=nb_train_samples//batch_size,\n",
    "    validation_steps=nb_validation_samples//batch_size)"
   ]
  },
  {
   "cell_type": "code",
   "execution_count": null,
   "metadata": {},
   "outputs": [],
   "source": [
    "custom_model.save(\"./model/model_Resnet50-20.h5\")"
   ]
  },
  {
   "cell_type": "markdown",
   "metadata": {},
   "source": [
    "Transfer Learning modelo VGG19 - fine tune"
   ]
  },
  {
   "cell_type": "code",
   "execution_count": null,
   "metadata": {},
   "outputs": [],
   "source": [
    "from keras.applications.vgg19 import VGG19\n",
    "image_input = Input(shape=(width_shape, height_shape, 3))\n",
    "m_VGG19 = VGG19(input_tensor=image_input, include_top=False,weights='imagenet')\n",
    "m_VGG19.summary()\n",
    "last_layer = m_VGG19.layers[-1].output\n",
    "x= Flatten(name='flatten')(last_layer)\n",
    "x = Dense(128, activation='relu', name='fc1')(x)\n",
    "x=Dropout(0.3)(x)\n",
    "x = Dense(128, activation='relu', name='fc2')(x)\n",
    "x=Dropout(0.3)(x)\n",
    "out = Dense(clases, activation='softmax', name='output')(x)\n",
    "custom_model = Model(image_input, out)\n",
    "custom_model.summary()\n",
    "custom_model.compile(loss='categorical_crossentropy',optimizer='adadelta',metrics=['accuracy'])"
   ]
  },
  {
   "cell_type": "code",
   "execution_count": null,
   "metadata": {},
   "outputs": [],
   "source": [
    "model_history = custom_model.fit_generator(\n",
    "    train_generator,\n",
    "    epochs=epocas,\n",
    "    validation_data=validation_generator,\n",
    "    steps_per_epoch=nb_train_samples//batch_size,\n",
    "    validation_steps=nb_validation_samples//batch_size)"
   ]
  },
  {
   "cell_type": "code",
   "execution_count": null,
   "metadata": {},
   "outputs": [],
   "source": [
    "custom_model.save(\"./model/model_VGG19-20.h5\")"
   ]
  },
  {
   "cell_type": "markdown",
   "metadata": {},
   "source": [
    "Modelo Mobilenet - Entrenamiento de toda la red"
   ]
  },
  {
   "cell_type": "code",
   "execution_count": null,
   "metadata": {},
   "outputs": [],
   "source": [
    "from keras.applications.mobilenet import MobileNet\n",
    "image_input = Input(shape=(width_shape, height_shape, 3))\n",
    "m_MobileNet = MobileNet(input_tensor=image_input, include_top=False,weights='imagenet')\n",
    "m_MobileNet.summary()\n",
    "last_layer = m_MobileNet.layers[-1].output\n",
    "x= Flatten(name='flatten')(last_layer)\n",
    "out = Dense(clases, activation='softmax', name='output')(x)\n",
    "custom_model = Model(image_input, out)\n",
    "custom_model.summary()\n",
    "custom_model.compile(loss='categorical_crossentropy',optimizer='adadelta',metrics=['accuracy'])"
   ]
  },
  {
   "cell_type": "code",
   "execution_count": null,
   "metadata": {},
   "outputs": [],
   "source": [
    "model_history = custom_model.fit_generator(\n",
    "    train_generator,\n",
    "    epochs=epocas,\n",
    "    validation_data=validation_generator,\n",
    "    steps_per_epoch=nb_train_samples//batch_size,\n",
    "    validation_steps=nb_validation_samples//batch_size)"
   ]
  },
  {
   "cell_type": "code",
   "execution_count": null,
   "metadata": {},
   "outputs": [],
   "source": [
    "custom_model.save(\"./model/model_Mobilenet-20.h5\")"
   ]
  },
  {
   "cell_type": "markdown",
   "metadata": {},
   "source": [
    "Gráficas de entrenamiento y validación (accuracy - loss)"
   ]
  },
  {
   "cell_type": "code",
   "execution_count": null,
   "metadata": {},
   "outputs": [],
   "source": [
    "def plotTraining(hist, epochs, typeData):\n",
    "    if typeData == \"loss\":\n",
    "        plt.figure(1, figsize=(10, 5))\n",
    "        yc = hist.history['loss']\n",
    "        xc = range(epochs)\n",
    "        plt.ylabel('Loss', fontsize=24)\n",
    "        plt.plot(xc, yc, '-r', label='Loss Training')\n",
    "    if typeData == \"accuracy\":\n",
    "        plt.figure(2, figsize=(10, 5))\n",
    "        yc = hist.history['accuracy']\n",
    "        for i in range(0, len(yc)):\n",
    "            yc[i] = 100 * yc[i]\n",
    "        xc = range(epochs)\n",
    "        plt.ylabel('Accuracy (%)', fontsize=24)\n",
    "        plt.plot(xc, yc, '-r', label='Accuracy Training')\n",
    "    if typeData == \"val_loss\":\n",
    "        plt.figure(1, figsize=(10, 5))\n",
    "        yc = hist.history['val_loss']\n",
    "        xc = range(epochs)\n",
    "        plt.ylabel('Loss', fontsize=24)\n",
    "        plt.plot(xc, yc, '--b', label='Loss Validate')\n",
    "    if typeData == \"val_accuracy\":\n",
    "        plt.figure(2, figsize=(10, 5))\n",
    "        yc = hist.history['val_accuracy']\n",
    "        for i in range(0, len(yc)):\n",
    "            yc[i] = 100 * yc[i]\n",
    "        xc = range(epochs)\n",
    "        plt.ylabel('Accuracy (%)', fontsize=24)\n",
    "        plt.plot(xc, yc, '--b', label='Training Validate')\n",
    "\n",
    "    plt.rc('xtick', labelsize=24)\n",
    "    plt.rc('ytick', labelsize=24)\n",
    "    plt.rc('legend', fontsize=18)\n",
    "    plt.legend()\n",
    "    plt.xlabel('Number of Epochs', fontsize=24)\n",
    "    plt.grid(True)\n",
    "\n",
    "plotTraining(model_history,epocas,\"loss\")\n",
    "plotTraining(model_history,epocas,\"accuracy\")\n",
    "plotTraining(model_history,epocas,\"val_loss\")\n",
    "plotTraining(model_history,epocas,\"val_accuracy\")"
   ]
  }
 ],
 "metadata": {
  "interpreter": {
   "hash": "52634da84371cba311ea128a5ea7cdc41ff074b781779e754b270ff9f8153cee"
  },
  "kernelspec": {
   "display_name": "Python 3.9.12 64-bit",
   "language": "python",
   "name": "python3"
  },
  "language_info": {
   "codemirror_mode": {
    "name": "ipython",
    "version": 3
   },
   "file_extension": ".py",
   "mimetype": "text/x-python",
   "name": "python",
   "nbconvert_exporter": "python",
   "pygments_lexer": "ipython3",
   "version": "3.9.12"
  },
  "orig_nbformat": 4
 },
 "nbformat": 4,
 "nbformat_minor": 2
}
