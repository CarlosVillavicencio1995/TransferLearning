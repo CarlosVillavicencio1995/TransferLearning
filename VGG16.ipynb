{
 "cells": [
  {
   "cell_type": "code",
   "execution_count": null,
   "metadata": {},
   "outputs": [],
   "source": [
    "from keras.models import Sequential, Model\n",
    "from keras.layers import Conv2D, MaxPool2D, Dense, Flatten, Dropout, BatchNormalization, Input\n",
    "from keras.applications.imagenet_utils import preprocess_input, decode_predictions\n",
    "from keras.applications.vgg16 import VGG16\n",
    "from keras.preprocessing.image import ImageDataGenerator\n",
    "import matplotlib.pyplot as plt\n",
    "from tensorflow.python.keras import backend as K"
   ]
  },
  {
   "cell_type": "code",
   "execution_count": null,
   "metadata": {},
   "outputs": [],
   "source": [
    "import tensorflow as tf\n",
    "tf.__version__\n",
    "tf.test.gpu_device_name()"
   ]
  },
  {
   "cell_type": "code",
   "execution_count": null,
   "metadata": {},
   "outputs": [],
   "source": [
    "K.clear_session()\n",
    "\n",
    "data_entrenamiento = './data/train'\n",
    "data_validacion = './data/validation'"
   ]
  },
  {
   "cell_type": "code",
   "execution_count": null,
   "metadata": {},
   "outputs": [],
   "source": [
    "epocas = 50 #numero de veces q se va a iterar sobre el set de datos.\n",
    "width_shape = 224\n",
    "height_shape = 224 # tamano al cual vamos a procesar las imagenes\n",
    "batch_size = 64 #cantidad de imagenes que enviamos a procesar en cada uno de los pasos\n",
    "clases=2 #tipo de imagenes q vamos a enviar\n",
    "lr=0.0005 #determina el tamano de los ajustes que ara nuestra red neuronal"
   ]
  },
  {
   "cell_type": "code",
   "execution_count": null,
   "metadata": {},
   "outputs": [],
   "source": [
    "train_datagen = ImageDataGenerator()\n",
    "valid_datagen = ImageDataGenerator()\n",
    "train_generator = train_datagen.flow_from_directory(\n",
    "    data_entrenamiento,\n",
    "    target_size=(width_shape, height_shape),\n",
    "    batch_size=batch_size,\n",
    "    class_mode='categorical')\n",
    "validation_generator = valid_datagen.flow_from_directory(\n",
    "    data_validacion,\n",
    "    target_size=(width_shape, height_shape),\n",
    "    batch_size=batch_size,\n",
    "    class_mode='categorical')"
   ]
  },
  {
   "cell_type": "code",
   "execution_count": null,
   "metadata": {},
   "outputs": [],
   "source": [
    "print('#Entrenamiento de modelo VGG16')\n",
    "\n",
    "nb_train_samples = 10682\n",
    "nb_validation_samples = 3562\n",
    "\n",
    "image_input = Input(shape=(width_shape, height_shape, 3))\n",
    "\n",
    "model = VGG16(input_tensor=image_input, include_top=True, weights='imagenet')\n",
    "\n",
    "last_layer = model.output\n",
    "out = Dense(clases, activation='softmax', name='output')(last_layer)\n",
    "custom_vgg_model = Model(image_input, out)\n",
    "\n",
    "\n",
    "\n",
    "custom_vgg_model.compile(loss='categorical_crossentropy', optimizer='adadelta', metrics=['accuracy'])\n",
    "\n",
    "custom_vgg_model.summary()"
   ]
  },
  {
   "cell_type": "code",
   "execution_count": null,
   "metadata": {},
   "outputs": [],
   "source": [
    "model_history = custom_vgg_model.fit(\n",
    "    train_generator,\n",
    "    epochs=epocas,\n",
    "    validation_data=validation_generator,\n",
    "    steps_per_epoch=nb_train_samples//batch_size,\n",
    "    validation_steps=nb_validation_samples//batch_size)"
   ]
  },
  {
   "cell_type": "code",
   "execution_count": null,
   "metadata": {},
   "outputs": [],
   "source": [
    "custom_vgg_model.save(\"./modelos/model_VGG16.h5\")"
   ]
  },
  {
   "cell_type": "code",
   "execution_count": null,
   "metadata": {},
   "outputs": [],
   "source": [
    "def plotTraining(hist, epochs, typeData):\n",
    "    if typeData == \"loss\":\n",
    "        plt.figure(1, figsize=(10, 5))\n",
    "        yc = hist.history['loss']\n",
    "        xc = range(epochs)\n",
    "        plt.ylabel('Loss', fontsize=24)\n",
    "        plt.plot(xc, yc, '-r', label='Loss Training')\n",
    "    if typeData == \"accuracy\":\n",
    "        plt.figure(2, figsize=(10, 5))\n",
    "        yc = hist.history['accuracy']\n",
    "        for i in range(0, len(yc)):\n",
    "            yc[i] = 100 * yc[i]\n",
    "        xc = range(epochs)\n",
    "        plt.ylabel('Accuracy (%)', fontsize=24)\n",
    "        plt.plot(xc, yc, '-r', label='Accuracy Training')\n",
    "    if typeData == \"val_loss\":\n",
    "        plt.figure(1, figsize=(10, 5))\n",
    "        yc = hist.history['val_loss']\n",
    "        xc = range(epochs)\n",
    "        plt.ylabel('Loss', fontsize=24)\n",
    "        plt.plot(xc, yc, '--b', label='Loss Validate')\n",
    "    if typeData == \"val_accuracy\":\n",
    "        plt.figure(2, figsize=(10, 5))\n",
    "        yc = hist.history['val_accuracy']\n",
    "        for i in range(0, len(yc)):\n",
    "            yc[i] = 100 * yc[i]\n",
    "        xc = range(epochs)\n",
    "        plt.ylabel('Accuracy (%)', fontsize=24)\n",
    "        plt.plot(xc, yc, '--b', label='Training Validate')\n",
    "\n",
    "    plt.rc('xtick', labelsize=24)\n",
    "    plt.rc('ytick', labelsize=24)\n",
    "    plt.rc('legend', fontsize=18)\n",
    "    plt.legend()\n",
    "    plt.xlabel('Number of Epochs', fontsize=24)\n",
    "    plt.grid(True)\n",
    "\n"
   ]
  },
  {
   "cell_type": "code",
   "execution_count": null,
   "metadata": {},
   "outputs": [],
   "source": [
    "plotTraining(model_history,epocas,\"loss\")\n",
    "plotTraining(model_history,epocas,\"accuracy\")\n",
    "plotTraining(model_history,epocas,\"val_loss\")\n",
    "plotTraining(model_history,epocas,\"val_accuracy\")"
   ]
  },
  {
   "cell_type": "code",
   "execution_count": null,
   "metadata": {},
   "outputs": [],
   "source": [
    "import matplotlib.pyplot as plt\n",
    "from keras.applications.imagenet_utils import preprocess_input, decode_predictions\n",
    "from keras.models import load_model\n",
    "import numpy as np\n",
    "import cv2\n",
    "\n",
    "width_shape = 224\n",
    "height_shape = 224\n",
    "\n",
    "names = ['MELANOMA', 'NO_MELANOMA']\n",
    "\n",
    "modelt = load_model(\"./modelos/model_VGG16.h5\")\n",
    "#modelt = custom_vgg_model\n",
    "\n",
    "imaget_path = \"nomelanoma3.jpg\"\n",
    "imaget=cv2.resize(cv2.imread(imaget_path), (width_shape, height_shape), interpolation = cv2.INTER_AREA)\n",
    "xt = np.asarray(imaget)\n",
    "xt=preprocess_input(xt)\n",
    "xt = np.expand_dims(xt,axis=0)\n",
    "preds = modelt.predict(xt)\n",
    "\n",
    "print(names[np.argmax(preds)])\n",
    "\n",
    "\n",
    "plt.imshow(cv2.cvtColor(np.asarray(imaget),cv2.COLOR_BGR2RGB))\n",
    "plt.axis('off')\n",
    "plt.show()"
   ]
  },
  {
   "cell_type": "code",
   "execution_count": 1,
   "metadata": {},
   "outputs": [
    {
     "name": "stdout",
     "output_type": "stream",
     "text": [
      "Found 3560 images belonging to 2 classes.\n",
      "WARNING:tensorflow:No training configuration found in the save file, so the model was *not* compiled. Compile it manually.\n"
     ]
    },
    {
     "name": "stderr",
     "output_type": "stream",
     "text": [
      "C:\\Users\\LENOVO LEGION Y545\\AppData\\Local\\Temp\\ipykernel_22564\\2855043826.py:30: UserWarning: `Model.predict_generator` is deprecated and will be removed in a future version. Please use `Model.predict`, which supports generators.\n",
      "  predictions = custom_Model.predict_generator(generator=test_generator)\n"
     ]
    },
    {
     "ename": "AssertionError",
     "evalue": "len(class_names) should be equal to number ofclasses in the dataset",
     "output_type": "error",
     "traceback": [
      "\u001b[1;31m---------------------------------------------------------------------------\u001b[0m",
      "\u001b[1;31mAssertionError\u001b[0m                            Traceback (most recent call last)",
      "\u001b[1;32mc:\\Users\\LENOVO LEGION Y545\\PycharmProjects\\TransferLearning\\VGG16.ipynb Cell 12'\u001b[0m in \u001b[0;36m<cell line: 38>\u001b[1;34m()\u001b[0m\n\u001b[0;32m     <a href='vscode-notebook-cell:/c%3A/Users/LENOVO%20LEGION%20Y545/PycharmProjects/TransferLearning/VGG16.ipynb#ch0000011?line=32'>33</a>\u001b[0m y_real \u001b[39m=\u001b[39m test_generator\u001b[39m.\u001b[39mclasses\n\u001b[0;32m     <a href='vscode-notebook-cell:/c%3A/Users/LENOVO%20LEGION%20Y545/PycharmProjects/TransferLearning/VGG16.ipynb#ch0000011?line=35'>36</a>\u001b[0m matc\u001b[39m=\u001b[39mconfusion_matrix(y_real, y_pred)\n\u001b[1;32m---> <a href='vscode-notebook-cell:/c%3A/Users/LENOVO%20LEGION%20Y545/PycharmProjects/TransferLearning/VGG16.ipynb#ch0000011?line=37'>38</a>\u001b[0m plot_confusion_matrix(conf_mat\u001b[39m=\u001b[39;49mmatc, figsize\u001b[39m=\u001b[39;49m(\u001b[39m7\u001b[39;49m,\u001b[39m7\u001b[39;49m), class_names \u001b[39m=\u001b[39;49m names, show_normed\u001b[39m=\u001b[39;49m\u001b[39mFalse\u001b[39;49;00m)\n\u001b[0;32m     <a href='vscode-notebook-cell:/c%3A/Users/LENOVO%20LEGION%20Y545/PycharmProjects/TransferLearning/VGG16.ipynb#ch0000011?line=38'>39</a>\u001b[0m plt\u001b[39m.\u001b[39mtight_layout()\n\u001b[0;32m     <a href='vscode-notebook-cell:/c%3A/Users/LENOVO%20LEGION%20Y545/PycharmProjects/TransferLearning/VGG16.ipynb#ch0000011?line=40'>41</a>\u001b[0m \u001b[39mprint\u001b[39m(metrics\u001b[39m.\u001b[39mclassification_report(y_real,y_pred, digits \u001b[39m=\u001b[39m \u001b[39m4\u001b[39m))\n",
      "File \u001b[1;32mc:\\Python\\lib\\site-packages\\mlxtend\\plotting\\plot_confusion_matrix.py:97\u001b[0m, in \u001b[0;36mplot_confusion_matrix\u001b[1;34m(conf_mat, hide_spines, hide_ticks, figsize, cmap, colorbar, show_absolute, show_normed, norm_colormap, class_names, figure, axis, fontcolor_threshold)\u001b[0m\n\u001b[0;32m     95\u001b[0m     \u001b[39mraise\u001b[39;00m \u001b[39mAssertionError\u001b[39;00m(\u001b[39m\"\u001b[39m\u001b[39mBoth show_absolute and show_normed are False\u001b[39m\u001b[39m\"\u001b[39m)\n\u001b[0;32m     96\u001b[0m \u001b[39mif\u001b[39;00m class_names \u001b[39mis\u001b[39;00m \u001b[39mnot\u001b[39;00m \u001b[39mNone\u001b[39;00m \u001b[39mand\u001b[39;00m \u001b[39mlen\u001b[39m(class_names) \u001b[39m!=\u001b[39m \u001b[39mlen\u001b[39m(conf_mat):\n\u001b[1;32m---> 97\u001b[0m     \u001b[39mraise\u001b[39;00m \u001b[39mAssertionError\u001b[39;00m(\n\u001b[0;32m     98\u001b[0m         \u001b[39m\"\u001b[39m\u001b[39mlen(class_names) should be equal to number of\u001b[39m\u001b[39m\"\u001b[39m \u001b[39m\"\u001b[39m\u001b[39mclasses in the dataset\u001b[39m\u001b[39m\"\u001b[39m\n\u001b[0;32m     99\u001b[0m     )\n\u001b[0;32m    101\u001b[0m total_samples \u001b[39m=\u001b[39m conf_mat\u001b[39m.\u001b[39msum(axis\u001b[39m=\u001b[39m\u001b[39m1\u001b[39m)[:, np\u001b[39m.\u001b[39mnewaxis]\n\u001b[0;32m    102\u001b[0m normed_conf_mat \u001b[39m=\u001b[39m conf_mat\u001b[39m.\u001b[39mastype(\u001b[39m\"\u001b[39m\u001b[39mfloat\u001b[39m\u001b[39m\"\u001b[39m) \u001b[39m/\u001b[39m total_samples\n",
      "\u001b[1;31mAssertionError\u001b[0m: len(class_names) should be equal to number ofclasses in the dataset"
     ]
    }
   ],
   "source": [
    "from sklearn.metrics import confusion_matrix, f1_score, roc_curve, precision_score, recall_score, accuracy_score, roc_auc_score\n",
    "from keras.preprocessing.image import ImageDataGenerator\n",
    "from sklearn import metrics\n",
    "from mlxtend.plotting import plot_confusion_matrix\n",
    "from keras.models import load_model\n",
    "import numpy as np\n",
    "import matplotlib.pyplot as plt\n",
    "\n",
    "width_shape = 224\n",
    "height_shape = 224 # tamano al cual vamos a procesar las imagenes\n",
    "batch_size = 3\n",
    "\n",
    "names = ['MELANOMA','NO_MELANOMA']\n",
    "\n",
    "\n",
    "test_data_dir = './data/test'\n",
    "\n",
    "test_datagen = ImageDataGenerator()\n",
    "\n",
    "test_generator = test_datagen.flow_from_directory(\n",
    "    test_data_dir,\n",
    "    target_size=(width_shape, height_shape),\n",
    "    batch_size = batch_size,\n",
    "    class_mode='categorical',\n",
    "    shuffle=False)\n",
    "\n",
    "custom_Model= load_model(\"./model/model_VGG16.h5\")\n",
    "#modelt = custom_model\n",
    "\n",
    "predictions = custom_Model.predict_generator(generator=test_generator)\n",
    "\n",
    "y_pred = np.argmax(predictions, axis=1)\n",
    "y_real = test_generator.classes\n",
    "\n",
    "\n",
    "matc=confusion_matrix(y_real, y_pred)\n",
    "\n",
    "plot_confusion_matrix(conf_mat=matc, figsize=(7,7), class_names = names, show_normed=False)\n",
    "plt.tight_layout()\n",
    "\n",
    "print(metrics.classification_report(y_real,y_pred, digits = 4))"
   ]
  }
 ],
 "metadata": {
  "kernelspec": {
   "display_name": "Python 3.9.12 64-bit",
   "language": "python",
   "name": "python3"
  },
  "language_info": {
   "codemirror_mode": {
    "name": "ipython",
    "version": 3
   },
   "file_extension": ".py",
   "mimetype": "text/x-python",
   "name": "python",
   "nbconvert_exporter": "python",
   "pygments_lexer": "ipython3",
   "version": "3.9.12"
  },
  "orig_nbformat": 4,
  "vscode": {
   "interpreter": {
    "hash": "52634da84371cba311ea128a5ea7cdc41ff074b781779e754b270ff9f8153cee"
   }
  }
 },
 "nbformat": 4,
 "nbformat_minor": 2
}
